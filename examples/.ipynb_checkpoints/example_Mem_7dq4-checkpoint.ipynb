{
 "cells": [
  {
   "cell_type": "markdown",
   "metadata": {},
   "source": [
    "# Example usage of NRSur7dq4Remnant fit."
   ]
  },
  {
   "cell_type": "code",
   "execution_count": 1,
   "metadata": {},
   "outputs": [],
   "source": [
    "import surfinBH"
   ]
  },
  {
   "cell_type": "code",
   "execution_count": 2,
   "metadata": {},
   "outputs": [],
   "source": [
    "fit_name = 'NRSurMemory_7dq4Remnant'"
   ]
  },
  {
   "cell_type": "markdown",
   "metadata": {},
   "source": [
    "## Load the fit, this only needs to be done once at the start of a script"
   ]
  },
  {
   "cell_type": "code",
   "execution_count": 3,
   "metadata": {},
   "outputs": [
    {
     "name": "stdout",
     "output_type": "stream",
     "text": [
      "Loaded NRSurMemory_7dq4Remnant fit.\n"
     ]
    }
   ],
   "source": [
    "fit = surfinBH.LoadFits(fit_name)"
   ]
  },
  {
   "cell_type": "markdown",
   "metadata": {},
   "source": [
    "## Read the documentation"
   ]
  },
  {
   "cell_type": "code",
   "execution_count": 4,
   "metadata": {
    "scrolled": true
   },
   "outputs": [
    {
     "name": "stdout",
     "output_type": "stream",
     "text": [
      "Help on Mem_Fit7dq4 in module surfinBH._fit_evaluators.fit_Mem_7qd4 object:\n",
      "\n",
      "class Mem_Fit7dq4(surfinBH.surfinBH.SurFinBH)\n",
      " |  Mem_Fit7dq4(name, load_nrsur=False)\n",
      " |  \n",
      " |  A class for the NRSur7dq4Remnant model presented in Varma et al.,\n",
      " |  arxiv:1905.09300, hereafter referred to as THE PAPER.\n",
      " |  \n",
      " |  This model predicts the final memory, for the remnants of precessing\n",
      " |  binary black hole systems.  The fits are done using Gaussian Process\n",
      " |  Regression (GPR) and also provide an error estimate along with the fit\n",
      " |  value.\n",
      " |  \n",
      " |  This model has been trained in the parameter space:\n",
      " |      q <= 4, |chiA| <= 0.8, |chiB| <= 0.8\n",
      " |  \n",
      " |  However, it extrapolates reasonably to:\n",
      " |      q <= 6, |chiA| <= 1, |chiB| <= 1\n",
      " |  \n",
      " |  =========================================================================\n",
      " |  Usage:\n",
      " |  \n",
      " |  import surfinBH\n",
      " |  \n",
      " |  # Load the fit\n",
      " |  fit = surfinBH.LoadFits('NRSur7dq4Remnant')\n",
      " |  \n",
      " |  We provide the following call methods:\n",
      " |      # remnant memory and 1-sigma error estimate\n",
      " |      memory, memory_err = fit.memory(q, chiA, chiB, **kwargs)\n",
      " |  \n",
      " |  The arguments for each of these call methods are as follows:\n",
      " |  Arguments:\n",
      " |      q:      Mass ratio (q = mA/mB >= 1)\n",
      " |  \n",
      " |      chiA:  Dimensionless spin vector of the heavier black hole at\n",
      " |              reference epoch.\n",
      " |      chiB:  Dimensionless spin vector of the lighter black hole at\n",
      " |              reference epoch.\n",
      " |  \n",
      " |              This follows the same convention as LAL, where the spin\n",
      " |              components are defined as:\n",
      " |              \\chi_z = \\chi \\cdot \\hat{L}, where L is the orbital angular\n",
      " |                  momentum vector at the epoch.\n",
      " |              \\chi_x = \\chi \\cdot \\hat{n}, where n = body2 -> body1 is the\n",
      " |                  separation vector at the epoch. body1 is the heavier body.\n",
      " |              \\chi_y = \\chi \\cdot \\hat{L \\cross n}.\n",
      " |              These spin components are frame-independent as they are defined\n",
      " |              using vector inner products. This is equivalent to specifying\n",
      " |              the spins in the coorbital frame at the reference epoch. See\n",
      " |              THE PAPER for a definition of the coorbital frame.\n",
      " |  \n",
      " |  \n",
      " |  Optional arguments:\n",
      " |  \n",
      " |      omega0: Orbital frequency used to set the reference epoch.\n",
      " |              Default: None.\n",
      " |  \n",
      " |              If omega0 is None, the reference epoch is assumed to be at\n",
      " |              t=-100 M from the peak of the waveform, see THE PAPER for\n",
      " |              definition of the peak.\n",
      " |  \n",
      " |              If 'omega0' is given, the reference epoch is take to be the\n",
      " |              time at which the orbital frequency in the coprecessing frame\n",
      " |              equals omega0. omega0 should be in dimensionless units of\n",
      " |              rad/M, where M is the total mass.\n",
      " |  \n",
      " |              See THE PAPER for how the orbital frequency is\n",
      " |              computed as well as the definition of the coprecessing frame.\n",
      " |  \n",
      " |      allow_extrap:\n",
      " |          If False, raises a warning when q > 4.1 or |chiA|,|chiB| > 0.81,\n",
      " |              and raises an error when q > 6.1 or |chiA|,|chiB| > 1.\n",
      " |          If True, allows extrapolation to any q and |chiA|,|chiB| <= 1.\n",
      " |              Use at your own risk.\n",
      " |          Default: False.\n",
      " |  \n",
      " |  Optional PN evolution arguments:\n",
      " |  \n",
      " |      If the omega0 option is used, the spins need to be evolved from omega0\n",
      " |      until t=-100M, where the fits will be evaluated. For the late inspiral\n",
      " |      part, we use the internal spin evolution of NRSur7dq4 (also described\n",
      " |      in THE PAPER), which is very accurate. However, this surrogate is not\n",
      " |      long enough for small values of omega0 as it only has data starting at\n",
      " |      t=-4300M. Therefore, whenever the input omega0 is smaller than\n",
      " |      omega_switch_IG (defined below), we use PN evolution to go from omega0\n",
      " |      to about t=-4300M, beyond which we use NRSur7dq4 for spin evolution.\n",
      " |  \n",
      " |      PN_approximant:\n",
      " |          Approximant used to do the PN spin evolution. Choose from\n",
      " |          'SpinTaylorT4', 'SpinTaylorT1' or 'SpinTaylorT5'.\n",
      " |          Default: 'SpinTaylorT4'.\n",
      " |  \n",
      " |      PN_dt:\n",
      " |          Dimensionless time step size in units of M, used for the PN\n",
      " |          evolution. You may need to increase this if omega0 is very low.\n",
      " |          Default: 0.1\n",
      " |  \n",
      " |      PN_spin_order:\n",
      " |          Twice the PN order of spin effects. E.g., use 7 for 3.5PN.\n",
      " |          Default: 7\n",
      " |  \n",
      " |      PN_phase_order:\n",
      " |          Twice the PN order in phase. E.g., use 7 for 3.5PN.\n",
      " |          Default: 7\n",
      " |  \n",
      " |      t_sur_switch:\n",
      " |          The dimensionless time (from the peak) at which we switch from PN\n",
      " |          to the surrogate. Should be something larger than -4300.\n",
      " |          Default: -4000.\n",
      " |  \n",
      " |      omega_switch_IG:\n",
      " |          Initial guess for dimensionless orbital frequency, using which the\n",
      " |          switch will be made from PN to NRSur7dq4. This should be large\n",
      " |          enough to work for generic parts of the surrogate parameter space.\n",
      " |          You may need to increase this if the NRSur7dq4 model raises an\n",
      " |          exception like: \"Got omega_ref=0.03 < 0.031=omega_0, too small!\"\n",
      " |          Default: 0.03\n",
      " |  \n",
      " |          How t_sur_switch and omega_switch_IG work: The PN data is first\n",
      " |          generated starting at omega0, then the PN spins at omega_switch_IG\n",
      " |          are used to generate the NRSur7dq4 dynamics. NRSur7dq4 integrate\n",
      " |          the dynamics both forwards and backwards, so it will have omega and\n",
      " |          spins as a time series starting from -4300M. This is used to pick\n",
      " |          the omega0_sur and spins at t_sur_switch. Then the surrogate\n",
      " |          is reevaluated using omega0_sur and spins at t_sur_switch, thus\n",
      " |          ensuring that the switch always happens at t_sur_switch, even if\n",
      " |          omega_switch_IG corresponds to a later time.\n",
      " |  \n",
      " |  Inertial frame for returned values:\n",
      " |  \n",
      " |          Note that the default reference epoch corresponds to t=-100M, but\n",
      " |          if omega0 is given the reference epoch is taken to be the time at\n",
      " |          which the orbital frequency in the coprecessing frame is equal to\n",
      " |          omega0. This agrees with the LAL convention. See LIGO DCC document\n",
      " |          T1800226 for the LAL frame diagram.\n",
      " |  \n",
      " |  Method resolution order:\n",
      " |      Mem_Fit7dq4\n",
      " |      surfinBH.surfinBH.SurFinBH\n",
      " |      builtins.object\n",
      " |  \n",
      " |  Methods defined here:\n",
      " |  \n",
      " |  __init__(self, name, load_nrsur=False)\n",
      " |      name: Name of the fit excluding the surfinBH prefix. Ex: 7dq2.\n",
      " |      soft_param_lims: param limits beyond which to raise a warning.\n",
      " |      hard_param_lims: param limits beyond which to raise an error.\n",
      " |      aligned_spin_only: raise an error if given precessing spins.\n",
      " |      See _fit_evaluators.fit_7dq2.py for an example.\n",
      " |  \n",
      " |  ----------------------------------------------------------------------\n",
      " |  Methods inherited from surfinBH.surfinBH.SurFinBH:\n",
      " |  \n",
      " |  all(self, *args, **kwargs)\n",
      " |      Evaluates fit and 1-sigma error estimate for remnant mass, spin\n",
      " |      and kick velocity.\n",
      " |      Returns:\n",
      " |          mf, chif, vf, mf_err_est, chif_err_est, vf_err_est\n",
      " |      \n",
      " |      chif, vf, chif_err_est and vf_err_est are arrays of size 3.\n",
      " |  \n",
      " |  chif(self, *args, **kwargs)\n",
      " |      Evaluates fit and 1-sigma error estimate for remnant spin.\n",
      " |      Returns:\n",
      " |          chif, chif_err_est\n",
      " |      \n",
      " |      chif and chif_err_est are arrays of size 3.\n",
      " |  \n",
      " |  memory(self, *args, **kwargs)\n",
      " |      Evaluates fit and 1-sigma error estimate for remnant mass.\n",
      " |      Returns:\n",
      " |          memory, memory_err_est\n",
      " |  \n",
      " |  mf(self, *args, **kwargs)\n",
      " |      Evaluates fit and 1-sigma error estimate for remnant mass.\n",
      " |      Returns:\n",
      " |          mf, mf_err_est\n",
      " |  \n",
      " |  vf(self, *args, **kwargs)\n",
      " |      Evaluates fit and 1-sigma error estimate for remnant kick velocity.\n",
      " |      Returns:\n",
      " |          vf, vf_err_est\n",
      " |      \n",
      " |      vf and vf_err_est are arrays of size 3.\n",
      " |  \n",
      " |  ----------------------------------------------------------------------\n",
      " |  Data descriptors inherited from surfinBH.surfinBH.SurFinBH:\n",
      " |  \n",
      " |  __dict__\n",
      " |      dictionary for instance variables (if defined)\n",
      " |  \n",
      " |  __weakref__\n",
      " |      list of weak references to the object (if defined)\n",
      "\n"
     ]
    }
   ],
   "source": [
    "help(fit)"
   ]
  },
  {
   "cell_type": "markdown",
   "metadata": {},
   "source": [
    "## Evaluate the fits (using spins at t=-100 M)"
   ]
  },
  {
   "cell_type": "code",
   "execution_count": 5,
   "metadata": {},
   "outputs": [
    {
     "name": "stdout",
     "output_type": "stream",
     "text": [
      "log10memory: -1.2945118434862217 log10memory_err: 0.01641617524732236\n"
     ]
    }
   ],
   "source": [
    "# Note: By default, the reference epoch is taken to be \n",
    "# at t=-100M from the waveform amplitude peak. The \n",
    "# returned chif and vf are in coorbital frame at t=-100M.\n",
    "\n",
    "# Mass ratio and component spins at reference epoch\n",
    "q = 3.2\n",
    "chiA = [0.5, 0.05, 0.3]\n",
    "chiB = [-0.5, -0.05, 0.1]\n",
    "\n",
    "# remnant memory and 1-sigma error estimate\n",
    "log10memory, log10memory_err = fit.memory(q, chiA, chiB)\n",
    "print(\"log10memory:\", log10memory, \"log10memory_err:\", log10memory_err)"
   ]
  },
  {
   "cell_type": "code",
   "execution_count": 6,
   "metadata": {},
   "outputs": [
    {
     "data": {
      "text/plain": [
       "0.0687381935999739"
      ]
     },
     "execution_count": 6,
     "metadata": {},
     "output_type": "execute_result"
    }
   ],
   "source": [
    "pow(10,-1.1628018850569777)"
   ]
  },
  {
   "cell_type": "markdown",
   "metadata": {},
   "source": [
    "# Evaluate the fits using spins at earlier frequencies"
   ]
  },
  {
   "cell_type": "code",
   "execution_count": null,
   "metadata": {},
   "outputs": [],
   "source": []
  },
  {
   "cell_type": "code",
   "execution_count": 8,
   "metadata": {},
   "outputs": [
    {
     "name": "stdout",
     "output_type": "stream",
     "text": [
      "log10memory: -1.2998743621107192 log10memory_err: 0.00782627909640233\n"
     ]
    }
   ],
   "source": [
    "# Note: If omega0 is given, the reference epoch is taken to be the \n",
    "# time at which the orbital frequency in the coprecessing frame is\n",
    "# equal to omega0. The returned chif and vf are in the LAL interial\n",
    "# frame as described in the documentation.\n",
    "\n",
    "# Mass ratio and component spins at reference epoch\n",
    "q = 3.2\n",
    "chiA = [0.5, 0.05, 0.3]\n",
    "chiB = [-0.5, -0.05, 0.1]\n",
    "\n",
    "#  Dimensionless orbital frequency at reference epoch (in units of rad/M)\n",
    "omega0 = 7e-3\n",
    "\n",
    "# remnant memory and 1-sigma error estimate\n",
    "log10memory, log10memory_err = fit.memory(q, chiA, chiB, omega0=omega0)\n",
    "print(\"log10memory:\", log10memory, \"log10memory_err:\", log10memory_err)\n",
    "\n",
    "# All of these together\n",
    "log10memory, log10memory_err = fit.all(q, chiA, chiB, omega0=omega0)"
   ]
  },
  {
   "cell_type": "code",
   "execution_count": null,
   "metadata": {},
   "outputs": [],
   "source": []
  }
 ],
 "metadata": {
  "kernelspec": {
   "display_name": "Python 3",
   "language": "python",
   "name": "python3"
  },
  "language_info": {
   "codemirror_mode": {
    "name": "ipython",
    "version": 3
   },
   "file_extension": ".py",
   "mimetype": "text/x-python",
   "name": "python",
   "nbconvert_exporter": "python",
   "pygments_lexer": "ipython3",
   "version": "3.8.6"
  }
 },
 "nbformat": 4,
 "nbformat_minor": 4
}
